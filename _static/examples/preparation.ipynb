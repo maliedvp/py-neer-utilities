{
  "cells": [
    {
      "cell_type": "raw",
      "metadata": {},
      "source": [
        "---\n",
        "title: \"Data Preparation for Training\"\n",
        "---"
      ],
      "id": "4870056f"
    },
    {
      "cell_type": "markdown",
      "metadata": {},
      "source": [
        "This document explains the data preparation process for training our matching model. The example data comes from a research project that digitized historic records of German joint-stock companies [(Gram et al. 2022)](https://dl.acm.org/doi/10.1145/3531533). The data contains inconsistencies in spelling, primarily due to variations in abbreviation conventions and OCR errors, across most variables. These challenges make it a compelling real-world use case for entity matching.\n",
        "\n",
        "The data consists of three files:\n",
        "\n",
        "- *left.csv*\n",
        "- *right.csv*\n",
        "- *matches.csv*\n",
        "\n",
        "## Different Data Relationships\n",
        "\n",
        "### 1. Loading the Data\n",
        "\n",
        "First, we import the necessary libraries and load the datasets.\n"
      ],
      "id": "a05c5e2d"
    },
    {
      "cell_type": "code",
      "metadata": {},
      "source": [
        "import random\n",
        "import pandas as pd\n",
        "\n",
        "matches = pd.read_csv('matches.csv')\n",
        "left = pd.read_csv('left.csv')\n",
        "right = pd.read_csv('right.csv')"
      ],
      "id": "1df85abd",
      "execution_count": null,
      "outputs": []
    },
    {
      "cell_type": "markdown",
      "metadata": {},
      "source": [
        "### 2. Inspecting the Data\n",
        "\n",
        "Let's view the first few rows of each dataset to understand their structure.\n"
      ],
      "id": "88213053"
    },
    {
      "cell_type": "code",
      "metadata": {},
      "source": [
        "matches.head()"
      ],
      "id": "12589243",
      "execution_count": null,
      "outputs": []
    },
    {
      "cell_type": "code",
      "metadata": {},
      "source": [
        "left.head()"
      ],
      "id": "1ef81fe9",
      "execution_count": null,
      "outputs": []
    },
    {
      "cell_type": "code",
      "metadata": {},
      "source": [
        "right.head()"
      ],
      "id": "7d288a73",
      "execution_count": null,
      "outputs": []
    },
    {
      "cell_type": "markdown",
      "metadata": {},
      "source": [
        "All three DataFrames have the same number of observations:\n"
      ],
      "id": "f8ec705f"
    },
    {
      "cell_type": "code",
      "metadata": {},
      "source": [
        "print(f'Number of observations in matches: {len(matches)}')\n",
        "print(f'Number of observations in left: {len(left)}')\n",
        "print(f'Number of observations in right: {len(right)}')"
      ],
      "id": "af28358c",
      "execution_count": null,
      "outputs": []
    },
    {
      "cell_type": "markdown",
      "metadata": {},
      "source": [
        "### 3. Simulating a Many-to-Many Relationship\n",
        "\n",
        "To demonstrate how to handle more complex matching scenarios, we simulate a many-to-many (m:m) relationship. For instance, assume that the company with `company_id` *1e87fc75b4* in the *left* DataFrame should match with two entries in the *right* DataFrame: the original match *0008e07878* and an additional match *8bf51ba8a0*.\n"
      ],
      "id": "6c4e8800"
    },
    {
      "cell_type": "code",
      "metadata": {},
      "source": [
        "# Add an extra match to simulate a many-to-many relationship\n",
        "\n",
        "extra_match = pd.DataFrame({\n",
        "    'company_id_left' : ['1e87fc75b4'],\n",
        "    'company_id_right' : ['8bf51ba8a0']\n",
        "})\n",
        "matches = pd.concat([matches, extra_match], ignore_index=True)"
      ],
      "id": "95ee2d66",
      "execution_count": null,
      "outputs": []
    },
    {
      "cell_type": "markdown",
      "metadata": {},
      "source": [
        "Now, inspect the modified `matches` dataframe for the affected IDs:\n"
      ],
      "id": "b60af2f2"
    },
    {
      "cell_type": "code",
      "metadata": {},
      "source": [
        "matches[\n",
        "    matches['company_id_left'].isin(['1e87fc75b4', '810c9c3435']) |\n",
        "    matches['company_id_right'].isin(['0008e07878', '8bf51ba8a0'])\n",
        "]"
      ],
      "id": "590184ad",
      "execution_count": null,
      "outputs": []
    },
    {
      "cell_type": "markdown",
      "metadata": {},
      "source": [
        "### 4. Understanding the Matching Issue\n",
        "\n",
        "Simply adding a new row to the *matches* DataFrame can be problematic. Consider this simplified example:\n",
        "\n",
        "| Left | Right | Implied Real-World Entity |\n",
        "|------|-------|---------------------------|\n",
        "| A    | C     | Entity 1                  |\n",
        "| B    | D     | Entity 2                  |\n",
        "\n",
        "If further evidence shows that record *A* and record *C* represent the same entity, then all related records (*A*, *B*, *C*, *D*) should be grouped together. This comprehensive grouping implies that every possible pair among these records should be represented (as shown in the first six rows of the table below). Notice that the observations *B* and *C* would consequently appear in both the *Left* and *Right* columns. Therefore, the *left* and *right* DataFrames need to be adjusted, ensuring these observations will be included in both of these DataFrames. As a result, the *matches* DataFrame must be expanded with an additional set of corresponding entries (highlighted by the <span style=\"color: orange;\">orange</span> rows):\n",
        "\n",
        "| Left | Right |\n",
        "|------|-------|\n",
        "| A    | B     |\n",
        "| A    | C     |\n",
        "| A    | D     |\n",
        "| B    | C     |\n",
        "| B    | D     |\n",
        "| C    | D     |\n",
        "| <span style=\"color: orange;\">B</span>    | <span style=\"color: orange;\">B</span>     | \n",
        "| <span style=\"color: orange;\">C</span>    | <span style=\"color: orange;\">C</span>     | \n",
        "\n",
        "This example highlights why a naive approach (merely adding an extra match) does not fully capture the nature of the linking problem.\n",
        "\n",
        "### 5. Correcting the Relationships\n",
        "\n",
        "To resolve this issue and correctly group all records representing the same real-world entity, we use the `data_preparation_cs` method from the `SetupData` class in the `neer_match_utilities.panel` module. This method automatically completes the matching pairs and adjusts the `left` and `right` datasets accordingly.\n"
      ],
      "id": "04f6f57c"
    },
    {
      "cell_type": "code",
      "metadata": {},
      "source": [
        "from neer_match_utilities.panel import SetupData\n",
        "\n",
        "left, right, matches = SetupData(matches=matches).data_preparation_cs(\n",
        "    df_left=left,\n",
        "    df_right=right,\n",
        "    unique_id='company_id'\n",
        ")"
      ],
      "id": "888f6d4d",
      "execution_count": null,
      "outputs": []
    },
    {
      "cell_type": "markdown",
      "metadata": {},
      "source": [
        "### 6. Verifying the Adjustments\n",
        "\n",
        "Finally, we verify that the adjustments correctly reflect the intended relationships by checking the relevant company IDs in the updated datasets.\n"
      ],
      "id": "db575260"
    },
    {
      "cell_type": "code",
      "metadata": {},
      "source": [
        "# Verify the updated matches for the specific company_ids\n",
        "\n",
        "artificial_group = ['1e87fc75b4', '810c9c3435', '0008e07878', '8bf51ba8a0']\n",
        "\n",
        "matches_subset = matches[\n",
        "    matches['left'].isin(artificial_group) |\n",
        "    matches['right'].isin(artificial_group)\n",
        "].sort_values(['left', 'right'])\n",
        "\n",
        "matches_subset"
      ],
      "id": "c1a7d0ff",
      "execution_count": null,
      "outputs": []
    },
    {
      "cell_type": "code",
      "metadata": {},
      "source": [
        "# Check the corresponding records in the left dataset\n",
        "\n",
        "left_subset = left[\n",
        "    left['company_id'].isin(artificial_group)\n",
        "][['company_id']]\n",
        "left_subset.head(10)"
      ],
      "id": "db144c41",
      "execution_count": null,
      "outputs": []
    },
    {
      "cell_type": "code",
      "metadata": {},
      "source": [
        "# Check the corresponding records in the right dataset\n",
        "\n",
        "right_subset = right[\n",
        "    right['company_id'].isin(artificial_group)\n",
        "][['company_id']]\n",
        "right_subset"
      ],
      "id": "8f69d6c4",
      "execution_count": null,
      "outputs": []
    },
    {
      "cell_type": "markdown",
      "metadata": {},
      "source": [
        "By following these steps, we ensure that the data accurately represents the underlying real-world relationships, even when the matching is more complex than a simple 1:1 mapping. To not have the manual change affect the next steps, we drop observations associated with these IDs.\n"
      ],
      "id": "ed3ae7a9"
    },
    {
      "cell_type": "code",
      "metadata": {},
      "source": [
        "left = left[~left['company_id'].isin(artificial_group)].reset_index(drop=False)\n",
        "right = right[~right['company_id'].isin(artificial_group)].reset_index(drop=False)\n",
        "matches = matches[\n",
        "    (~matches['left'].isin(artificial_group))\n",
        "    &\n",
        "    (~matches['right'].isin(artificial_group))\n",
        "].reset_index(drop=False)"
      ],
      "id": "4c2c2002",
      "execution_count": null,
      "outputs": []
    },
    {
      "cell_type": "markdown",
      "metadata": {},
      "source": [
        "---\n",
        "\n",
        "## Formatting\n",
        "\n",
        "### 1. A customized `similarity_map`\n",
        "\n",
        "Set up the `similarity_map`. Note that the columns as `city`, `industry`, and `purpose` contain missing values. One way to improve the handling of these is to include a custom [similarity function](https://github.com/maliedvp/py-neer-match/blob/custom_similarity_functions/src/neer_match/similarity_map.py) `notmissing` to the `similarity_map` that returns 0 if a least one observation of a record pair is any missing value (`None`, `np.nan`, `pd.nan` or and empty string) and 1 otherwise. Similarly, for numeric columns, the custom function `notzero` is added. These functions are not part of the released version of `neer_match.similarity_map.available_similarities()`, which is why they are outcommented in the example below.\n"
      ],
      "id": "5c06b2b7"
    },
    {
      "cell_type": "code",
      "metadata": {},
      "source": [
        "from neer_match.similarity_map import SimilarityMap\n",
        "from neer_match_utilities.custom_similarities import CustomSimilarities\n",
        "\n",
        "# Load custom similarities dedicated to missing values from the utilities package\n",
        "\n",
        "CustomSimilarities()\n",
        "\n",
        "# Define similarity_map\n",
        "\n",
        "similarity_map = {\n",
        "    \"company_name\" : [\n",
        "        \"levenshtein\",\n",
        "        \"jaro_winkler\",\n",
        "        \"prefix\",\n",
        "        \"postfix\",\n",
        "        \"token_sort_ratio\",\n",
        "        \"token_set_ratio\",\n",
        "        \"partial_token_set_ratio\",\n",
        "        \"partial_token_sort_ratio\",\n",
        "    ],\n",
        "    \"city\" : [\n",
        "        \"levenshtein\",\n",
        "        \"jaro_winkler\",\n",
        "        \"notmissing\",\n",
        "    ],\n",
        "    \"industry\" : [\n",
        "        \"levenshtein\",\n",
        "        \"jaro_winkler\",\n",
        "        \"notmissing\",\n",
        "    ],\n",
        "    \"purpose\" : [\n",
        "        \"levenshtein\",\n",
        "        \"jaro_winkler\",\n",
        "        \"token_sort_ratio\",\n",
        "        \"token_set_ratio\",\n",
        "        \"partial_token_set_ratio\",\n",
        "        \"partial_token_sort_ratio\",\n",
        "        \"notmissing\",\n",
        "    ],\n",
        "    \"bs_text\" : [\n",
        "        \"levenshtein\",\n",
        "        \"jaro_winkler\",\n",
        "        \"token_sort_ratio\",\n",
        "        \"token_set_ratio\",\n",
        "        \"partial_token_set_ratio\",\n",
        "        \"partial_token_sort_ratio\",\n",
        "        \"notmissing\",\n",
        "    ],\n",
        "    \"found_year\" : [\n",
        "        \"discrete\",\n",
        "        \"notzero\"\n",
        "    ],\n",
        "    \"found_date_modified\" : [\n",
        "        \"discrete\",\n",
        "        \"notmissing\",\n",
        "    ]\n",
        "}\n",
        "\n",
        "smap = SimilarityMap(similarity_map)"
      ],
      "id": "1f63d4c4",
      "execution_count": null,
      "outputs": []
    },
    {
      "cell_type": "markdown",
      "metadata": {},
      "source": [
        "### 2. Harmonizing the data\n",
        "\n",
        "Next, data formatting can be harmonized using the `Prepare` class. This class enables operations such as capitalizing string variables and converting other values to numeric types. Importantly, these operations are applied consistently to both the *left* and *right* DataFrames.\n"
      ],
      "id": "b3541faa"
    },
    {
      "cell_type": "code",
      "metadata": {},
      "source": [
        "from neer_match_utilities.prepare import Prepare\n",
        "\n",
        "# Initialize the Prepare object\n",
        "\n",
        "prepare = Prepare(\n",
        "    similarity_map=similarity_map, \n",
        "    df_left=left, \n",
        "    df_right=right, \n",
        "    id_left='company_id', \n",
        "    id_right='company_id',\n",
        "    spacy_pipeline='de_core_news_sm',\n",
        "    additional_stop_words=[]\n",
        ")\n",
        "\n",
        "# Get formatted and harmonized datasets\n",
        "\n",
        "left, right = prepare.format(\n",
        "    fill_numeric_na=False,\n",
        "    to_numeric=['found_year'],\n",
        "    fill_string_na=True, \n",
        "    capitalize=True,\n",
        "    lower_case=False,\n",
        "    remove_stop_words=False,\n",
        ")"
      ],
      "id": "342445e6",
      "execution_count": null,
      "outputs": []
    },
    {
      "cell_type": "code",
      "metadata": {},
      "source": [
        "left.head()"
      ],
      "id": "c8d392b7",
      "execution_count": null,
      "outputs": []
    },
    {
      "cell_type": "code",
      "metadata": {},
      "source": [
        "right.head()"
      ],
      "id": "1085144b",
      "execution_count": null,
      "outputs": []
    },
    {
      "cell_type": "markdown",
      "metadata": {},
      "source": [
        "## Re-Structuring \n",
        "\n",
        "`neer-match` requires that the *matches* DataFrame be structured with the indices from the left and right datasets instead of their unique IDs. To convert your *matches* DataFrame into the required format, you can run:\n"
      ],
      "id": "c02f434c"
    },
    {
      "cell_type": "code",
      "metadata": {},
      "source": [
        "from neer_match_utilities.training import Training\n",
        "\n",
        "training = Training(\n",
        "    similarity_map=similarity_map, \n",
        "    df_left=left, \n",
        "    df_right=right, \n",
        "    id_left='company_id', \n",
        "    id_right='company_id'\n",
        ")\n",
        "\n",
        "matches = training.matches_reorder(\n",
        "    matches, \n",
        "    matches_id_left='left', \n",
        "    matches_id_right='right'\n",
        ")\n",
        "\n",
        "matches.head()"
      ],
      "id": "8b32c36c",
      "execution_count": null,
      "outputs": []
    },
    {
      "cell_type": "markdown",
      "metadata": {},
      "source": [
        "Let's track down the observations from *matches* in *left* .\n"
      ],
      "id": "3f2bba15"
    },
    {
      "cell_type": "code",
      "metadata": {},
      "source": [
        "left_index = matches.loc[4,'left']\n",
        "left[left.index==left_index]"
      ],
      "id": "12d78194",
      "execution_count": null,
      "outputs": []
    },
    {
      "cell_type": "markdown",
      "metadata": {},
      "source": [
        "and *right*\n"
      ],
      "id": "c838f268"
    },
    {
      "cell_type": "code",
      "metadata": {},
      "source": [
        "right_index = matches.loc[4,'right']\n",
        "right[right.index==right_index]"
      ],
      "id": "5a50920e",
      "execution_count": null,
      "outputs": []
    },
    {
      "cell_type": "markdown",
      "metadata": {},
      "source": [
        "## Splitting data\n",
        "\n",
        "Subsequently, we need to split the data into training and test sets, each consisting of three DataFrames. The training ratio is given by $\\text{training_ratio} = 1 - (\\text{test_ratio} + \\text{validation_ratio})$. Note that since validation is not implemented yet, you can set $\\text{validation_ratio} = 0$.\n"
      ],
      "id": "4e9f842e"
    },
    {
      "cell_type": "code",
      "metadata": {},
      "source": [
        "from neer_match_utilities.split import split_test_train\n",
        "\n",
        "left_train, right_train, matches_train, left_validation, right_validation, matches_validation, left_test, right_test, matches_test = split_test_train(\n",
        "    left = left,\n",
        "    right = right,\n",
        "    matches = matches,\n",
        "    test_ratio = .5,\n",
        "    validation_ratio = .0\n",
        ")"
      ],
      "id": "b0f64fbe",
      "execution_count": null,
      "outputs": []
    },
    {
      "cell_type": "code",
      "metadata": {},
      "source": [
        "matches_train.head()"
      ],
      "id": "36da7e86",
      "execution_count": null,
      "outputs": []
    },
    {
      "cell_type": "code",
      "metadata": {},
      "source": [
        "left_train[\n",
        "    left_train.index.isin(\n",
        "        matches_train['left'].head()\n",
        "    )\n",
        "]"
      ],
      "id": "a87472ef",
      "execution_count": null,
      "outputs": []
    },
    {
      "cell_type": "code",
      "metadata": {},
      "source": [
        "right_train[\n",
        "    right_train.index.isin(\n",
        "        matches_train['right'].head()\n",
        "    )\n",
        "]"
      ],
      "id": "209bf710",
      "execution_count": null,
      "outputs": []
    }
  ],
  "metadata": {
    "kernelspec": {
      "display_name": "Python 3",
      "language": "python",
      "name": "python3"
    }
  },
  "nbformat": 4,
  "nbformat_minor": 5
}