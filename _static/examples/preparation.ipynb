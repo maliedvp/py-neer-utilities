{
  "cells": [
    {
      "cell_type": "raw",
      "metadata": {},
      "source": [
        "---\n",
        "title: \"Data Preparation for Training\"\n",
        "---"
      ],
      "id": "c601cb36"
    },
    {
      "cell_type": "markdown",
      "metadata": {},
      "source": [
        "This document explains the data preparation process for training our matching model. The example data comes from a research project that digitized historic records of German companies (from the _Handbuch der Deutschen Aktiengesellschaften_) using OCR. The dataset includes three files:\n",
        "\n",
        "- **left.csv**\n",
        "- **right.csv**\n",
        "- **matches.csv**\n",
        "\n",
        "Initially, the data has a one-to-one relationship: each record in `left.csv` corresponds to exactly one record in `right.csv`, and vice versa.\n",
        "\n",
        "## Different Data Relationship\n",
        "\n",
        "### 1. Loading the Data\n",
        "\n",
        "First, we import the necessary libraries and load the datasets.\n"
      ],
      "id": "5915073a"
    },
    {
      "cell_type": "code",
      "metadata": {},
      "source": [
        "import random\n",
        "import pandas as pd\n",
        "\n",
        "random.seed(42)\n",
        "\n",
        "matches = pd.read_csv('matches.csv')\n",
        "left = pd.read_csv('left.csv')\n",
        "right = pd.read_csv('right.csv')"
      ],
      "id": "8b671181",
      "execution_count": null,
      "outputs": []
    },
    {
      "cell_type": "markdown",
      "metadata": {},
      "source": [
        "### 2. Inspecting the Data\n",
        "\n",
        "Let's view the first few rows of each dataset to understand their structure.\n"
      ],
      "id": "0f10f1db"
    },
    {
      "cell_type": "code",
      "metadata": {},
      "source": [
        "matches.head()"
      ],
      "id": "357594df",
      "execution_count": null,
      "outputs": []
    },
    {
      "cell_type": "code",
      "metadata": {},
      "source": [
        "left.head()"
      ],
      "id": "524d3989",
      "execution_count": null,
      "outputs": []
    },
    {
      "cell_type": "code",
      "metadata": {},
      "source": [
        "right.head()"
      ],
      "id": "acefec26",
      "execution_count": null,
      "outputs": []
    },
    {
      "cell_type": "markdown",
      "metadata": {},
      "source": [
        "Since the original data is based on 1:1 relationships, all three datasets have the same number of observations:\n"
      ],
      "id": "6a1df58f"
    },
    {
      "cell_type": "code",
      "metadata": {},
      "source": [
        "print(f'Number of observations in matches: {len(matches)}')\n",
        "print(f'Number of observations in left: {len(left)}')\n",
        "print(f'Number of observations in right: {len(right)}')"
      ],
      "id": "45f61dd1",
      "execution_count": null,
      "outputs": []
    },
    {
      "cell_type": "markdown",
      "metadata": {},
      "source": [
        "### 3. Simulating a Many-to-Many Relationship\n",
        "\n",
        "To demonstrate how to handle more complex matching scenarios, we simulate a many-to-many (m:m) relationship. For instance, assume that the company with `company_id` **1e87fc75b4** in the left dataset should match with two entries in the right dataset: the original match **0008e07878** and an additional match **8bf51ba8a0**.\n"
      ],
      "id": "0d502d37"
    },
    {
      "cell_type": "code",
      "metadata": {},
      "source": [
        "# Add an extra match to simulate a many-to-many relationship\n",
        "extra_match = pd.DataFrame({\n",
        "    'company_id_left' : ['1e87fc75b4'],\n",
        "    'company_id_right' : ['8bf51ba8a0']\n",
        "})\n",
        "matches = pd.concat([matches, extra_match], ignore_index=True)"
      ],
      "id": "75881a4f",
      "execution_count": null,
      "outputs": []
    },
    {
      "cell_type": "markdown",
      "metadata": {},
      "source": [
        "Now, inspect the modified `matches` dataframe for the affected IDs:\n"
      ],
      "id": "629b3f8c"
    },
    {
      "cell_type": "code",
      "metadata": {},
      "source": [
        "matches[\n",
        "    matches['company_id_left'].isin(['1e87fc75b4', '810c9c3435']) |\n",
        "    matches['company_id_right'].isin(['0008e07878', '8bf51ba8a0'])\n",
        "]"
      ],
      "id": "af21af18",
      "execution_count": null,
      "outputs": []
    },
    {
      "cell_type": "markdown",
      "metadata": {},
      "source": [
        "### 4. Understanding the Matching Issue\n",
        "\n",
        "Simply adding a new row to `matches` can be problematic. Consider this simplified example:\n",
        "\n",
        "| Left | Right | Implied Real-World Entity |\n",
        "|------|-------|---------------------------|\n",
        "| A    | C     | Entity 1                  |\n",
        "| B    | D     | Entity 2                  |\n",
        "\n",
        "If further evidence shows that record **A** and record **C** represent the same entity, then all related records (A, B, C, D) should be grouped together. The complete relationship should reflect every possible pair among these records:\n",
        "\n",
        "| Left | Right |\n",
        "|------|-------|\n",
        "| A    | B     |\n",
        "| A    | C     |\n",
        "| A    | D     |\n",
        "| B    | C     |\n",
        "| B    | D     |\n",
        "| C    | D     |\n",
        "\n",
        "This example highlights why a naive approach (merely adding an extra match) can distort the true relationships between records.\n",
        "\n",
        "### 5. Correcting the Relationships\n",
        "\n",
        "To resolve this issue and correctly group all records representing the same real-world entity, we use the `data_preparation_cs` method from the `SetupData` class in the `neer_match_utilities.panel` module. This method automatically completes the matching pairs and adjusts the `left` and `right` datasets accordingly.\n"
      ],
      "id": "68455f0a"
    },
    {
      "cell_type": "code",
      "metadata": {},
      "source": [
        "from neer_match_utilities.panel import SetupData\n",
        "\n",
        "left, right, matches = SetupData(matches=matches).data_preparation_cs(\n",
        "    df_left=left,\n",
        "    df_right=right,\n",
        "    unique_id='company_id'\n",
        ")"
      ],
      "id": "5a9839c6",
      "execution_count": null,
      "outputs": []
    },
    {
      "cell_type": "markdown",
      "metadata": {},
      "source": [
        "### 6. Verifying the Adjustments\n",
        "\n",
        "Finally, we verify that the adjustments correctly reflect the intended relationships by checking the relevant company IDs in the updated datasets.\n"
      ],
      "id": "e8de83be"
    },
    {
      "cell_type": "code",
      "metadata": {},
      "source": [
        "# Verify the updated matches for the specific company_ids\n",
        "matches_subset = matches[\n",
        "    matches['left'].isin(['1e87fc75b4', '810c9c3435', '0008e07878', '8bf51ba8a0']) |\n",
        "    matches['right'].isin(['1e87fc75b4', '810c9c3435', '0008e07878', '8bf51ba8a0'])\n",
        "].sort_values(['left', 'right'])\n",
        "matches_subset"
      ],
      "id": "7b647c75",
      "execution_count": null,
      "outputs": []
    },
    {
      "cell_type": "code",
      "metadata": {},
      "source": [
        "# Check the corresponding records in the left dataset\n",
        "left_subset = left[\n",
        "    left['company_id'].isin(['1e87fc75b4', '810c9c3435', '0008e07878', '8bf51ba8a0'])\n",
        "][['company_id']]\n",
        "left_subset.head(10)"
      ],
      "id": "debde4c9",
      "execution_count": null,
      "outputs": []
    },
    {
      "cell_type": "code",
      "metadata": {},
      "source": [
        "# Check the corresponding records in the right dataset\n",
        "right_subset = right[\n",
        "    right['company_id'].isin(['1e87fc75b4', '810c9c3435', '0008e07878', '8bf51ba8a0'])\n",
        "][['company_id']]\n",
        "right_subset"
      ],
      "id": "df4ecbc7",
      "execution_count": null,
      "outputs": []
    },
    {
      "cell_type": "markdown",
      "metadata": {},
      "source": [
        "By following these steps, we ensure that the dataset accurately represents the underlying real-world relationships—even when the matching is more complex than a simple 1:1 mapping."
      ],
      "id": "1bc00e17"
    },
    {
      "cell_type": "markdown",
      "metadata": {},
      "source": [
        "---\n",
        "\n",
        "## Number 2"
      ],
      "id": "859acd86"
    }
  ],
  "metadata": {
    "kernelspec": {
      "display_name": "Python 3",
      "language": "python",
      "name": "python3"
    }
  },
  "nbformat": 4,
  "nbformat_minor": 5
}