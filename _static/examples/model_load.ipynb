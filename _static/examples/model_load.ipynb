{
  "cells": [
    {
      "cell_type": "raw",
      "metadata": {},
      "source": [
        "---\n",
        "title: \"Loading a Model\"\n",
        "execute:\n",
        "  eval: true\n",
        "---"
      ],
      "id": "d35ed774"
    },
    {
      "cell_type": "markdown",
      "metadata": {},
      "source": [
        "## Load Data & Model\n",
        "\n",
        "Assume you have trained a model and stored it under `demonstration_model`. We can now load the model and use it to make predictions using *left* and *right* DataFrames. In the first step, both the model and the data are loaded into memory.\n"
      ],
      "id": "bb3af9ed"
    },
    {
      "cell_type": "code",
      "metadata": {},
      "source": [
        "import pandas as pd\n",
        "\n",
        "from neer_match_utilities.model import Model\n",
        "from neer_match_utilities.prepare import Prepare, similarity_map_to_dict\n",
        "from pathlib import Path\n",
        "\n",
        "# Load files\n",
        "\n",
        "left = pd.read_csv('left.csv')\n",
        "right = pd.read_csv('right.csv')\n",
        "\n",
        "# Load model\n",
        "\n",
        "loaded_model = Model.load(\n",
        "    'demonstration_model'\n",
        ")"
      ],
      "id": "86c96487",
      "execution_count": null,
      "outputs": []
    },
    {
      "cell_type": "markdown",
      "metadata": {},
      "source": [
        "## Harmonize Format\n",
        "\n",
        "Next, we must ensure that the formatting logic remains consistent with that applied before training. Note that it is not necessary to redefine the similarity map, as it was stored and is loaded along with the model.\n"
      ],
      "id": "feb43d39"
    },
    {
      "cell_type": "code",
      "metadata": {},
      "source": [
        "prepare = Prepare(\n",
        "    similarity_map=similarity_map_to_dict(\n",
        "        loaded_model.similarity_map\n",
        "    ), \n",
        "    df_left=left, \n",
        "    df_right=right, \n",
        "    id_left='company_id', \n",
        "    id_right='company_id'\n",
        ")\n",
        "\n",
        "left, right = prepare.format(\n",
        "    fill_numeric_na=False,\n",
        "    to_numeric=['found_year'],\n",
        "    fill_string_na=True, \n",
        "    capitalize=True\n",
        ")"
      ],
      "id": "02ffd142",
      "execution_count": null,
      "outputs": []
    },
    {
      "cell_type": "markdown",
      "metadata": {},
      "source": [
        "## Make Suggestions\n",
        "\n",
        "Now we can make suggestions:\n"
      ],
      "id": "2f1c9be5"
    },
    {
      "cell_type": "code",
      "metadata": {},
      "source": [
        "# Make suggestions for the first observation in left\n",
        "\n",
        "suggestions = loaded_model.suggest(\n",
        "    left[:1], \n",
        "    right, \n",
        "    count=10, \n",
        "    verbose=0\n",
        ")\n",
        "\n",
        "suggestions"
      ],
      "id": "543123a1",
      "execution_count": null,
      "outputs": []
    },
    {
      "cell_type": "markdown",
      "metadata": {},
      "source": [
        "Based on this output, we can assess whether the suggestion is correct.\n"
      ],
      "id": "2fafbee6"
    },
    {
      "cell_type": "code",
      "metadata": {},
      "source": [
        "left.iloc[0]"
      ],
      "id": "b9f146a7",
      "execution_count": null,
      "outputs": []
    },
    {
      "cell_type": "code",
      "metadata": {},
      "source": [
        "right.iloc[\n",
        "    suggestions.loc[0, 'right']\n",
        "]"
      ],
      "id": "6b6bbd50",
      "execution_count": null,
      "outputs": []
    }
  ],
  "metadata": {
    "kernelspec": {
      "display_name": "Python 3",
      "language": "python",
      "name": "python3"
    }
  },
  "nbformat": 4,
  "nbformat_minor": 5
}