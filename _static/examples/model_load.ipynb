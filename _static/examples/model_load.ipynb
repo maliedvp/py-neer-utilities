{
  "cells": [
    {
      "cell_type": "raw",
      "metadata": {},
      "source": [
        "---\n",
        "title: \"Loading a Model\"\n",
        "---"
      ],
      "id": "c0842342"
    },
    {
      "cell_type": "markdown",
      "metadata": {},
      "source": [
        "## Prerequisites\n",
        "Load the libraries we will use and set the seed for reproducibility.\n"
      ],
      "id": "8a328a35"
    },
    {
      "cell_type": "code",
      "metadata": {},
      "source": [
        "#| label: setup\n",
        "#| output: false\n",
        "\n",
        "print('yes')"
      ],
      "id": "setup",
      "execution_count": null,
      "outputs": []
    }
  ],
  "metadata": {
    "kernelspec": {
      "display_name": "Python 3",
      "language": "python",
      "name": "python3"
    }
  },
  "nbformat": 4,
  "nbformat_minor": 5
}