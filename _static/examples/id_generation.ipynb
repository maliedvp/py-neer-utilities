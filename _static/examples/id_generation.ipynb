{
  "cells": [
    {
      "cell_type": "raw",
      "metadata": {},
      "source": [
        "---\n",
        "title: \"Creating a Common Identifier (ID)\"\n",
        "execute:\n",
        "  eval: true\n",
        "---"
      ],
      "id": "47268073"
    },
    {
      "cell_type": "markdown",
      "metadata": {},
      "source": [
        "## Between Two Sources\n",
        "\n",
        "### 1. Load Data & Model\n",
        "\n",
        "Use the *demonstration_model* to generate a common ID for observations from the *left* and *right* DataFrames. To do so, we first have to load both the model and the data into memory.\n"
      ],
      "id": "04552c36"
    },
    {
      "cell_type": "code",
      "metadata": {},
      "source": [
        "import pandas as pd\n",
        "\n",
        "from neer_match_utilities.model import Model\n",
        "from neer_match_utilities.prepare import Prepare, similarity_map_to_dict\n",
        "from pathlib import Path\n",
        "\n",
        "\n",
        "# Load model\n",
        "\n",
        "loaded_model = Model.load(\n",
        "    'demonstration_model'\n",
        ")\n",
        "\n",
        "# Load files\n",
        "\n",
        "left = pd.read_csv('left.csv')\n",
        "right = pd.read_csv('right.csv')"
      ],
      "id": "a52a6ec8",
      "execution_count": null,
      "outputs": []
    },
    {
      "cell_type": "markdown",
      "metadata": {},
      "source": [
        "### 2. Harmonize Format\n",
        "\n",
        "After loading the model and data, it is crucial to ensure that the formatting applied to the data remains consistent with the preprocessing used during model training. The `Prepare` class is employed here to harmonize the left and right DataFrames. Notice that the `similarity_map is automatically loaded with the model, so there is no need to redefine it.\n"
      ],
      "id": "fe8dae0e"
    },
    {
      "cell_type": "code",
      "metadata": {},
      "source": [
        "prepare = Prepare(\n",
        "    similarity_map=similarity_map_to_dict(loaded_model.similarity_map), \n",
        "    df_left=left, \n",
        "    df_right=right, \n",
        "    id_left='company_id', \n",
        "    id_right='company_id'\n",
        ")\n",
        "\n",
        "left, right = prepare.format(\n",
        "    fill_numeric_na=False,\n",
        "    to_numeric=['found_year'],\n",
        "    fill_string_na=True, \n",
        "    capitalize=True\n",
        ")"
      ],
      "id": "fb781165",
      "execution_count": null,
      "outputs": []
    },
    {
      "cell_type": "markdown",
      "metadata": {},
      "source": [
        "### 3. Generate a Common ID\n",
        "\n",
        "The `generate_ID` method from the `Panel` class is designed to generate a common identifier across multiple repeated cross sections. In our case, creating an ID for observations in the *left* and *right* datasets can be seen as a special case with two periods. Importantly, the `relation` parameter enables the method to handle various types of relationships between the observations in left and right (`1:1`, `1:m`, `m:1`, and `m:m`). Additionally, the `panel_var` parameter specifies the name of the variable that will store these common identifiers. The `time_var` parameter indicates the different cross sections (this could be *year* for annual data, for instance). In our example, to generate an ID for the *left* and *right* DataFrames, we first create a new column (labeled *side*) to distinguish the two sources. Then, we stack the two DataFrames vertically into a single DataFrame named *df*. \n",
        "\n",
        "Importantly, the subgroups parameter allows you to implement a blocking strategy. Variables listed under this parameter restrict the ID generation process to comparing observations only within each subgroup. This can drastically minimize the required computation time because, by default, every observation in one cross section is compared to all observations in the comparison cross section. In our example, we could, for instance, create a new column that lists the first letter of each company entry, and include this newly created variable in the list of the subgroups parameter.\n"
      ],
      "id": "cee9816c"
    },
    {
      "cell_type": "code",
      "metadata": {},
      "source": [
        "from neer_match_utilities.panel import GenerateID\n",
        "\n",
        "left['side'] = 'left'\n",
        "right['side'] = 'right'\n",
        "\n",
        "df = pd.concat(\n",
        "\t[\n",
        "\t\tleft,\n",
        "\t\tright\n",
        "\t],\n",
        "\taxis=0,\n",
        "\tignore_index=True\n",
        ")\n",
        "\n",
        "# Create GenerateID instance\n",
        "\n",
        "id_generator = GenerateID(\n",
        "    df_panel=df,\n",
        "    panel_var='panel_id',\n",
        "    time_var='side',\n",
        "    model=loaded_model,\n",
        "    prediction_threshold=0.45,\n",
        "    subgroups=[],\n",
        "    relation='m:m',\n",
        ")\n",
        "\n",
        "# Execute the ID generation\n",
        "\n",
        "result = id_generator.execute()\n",
        "result.head()"
      ],
      "id": "c660f8eb",
      "execution_count": null,
      "outputs": []
    },
    {
      "cell_type": "markdown",
      "metadata": {},
      "source": [
        "The `generate_ID` method from the `Panel` class is designed to generate a common identifier across multiple repeated cross sections. In our case, creating an ID for observations in the left and right datasets can be seen as a special case with two periods. Importantly, the `relation` parameter enables the method to handle various types of relationships between the observations in left and right (such as `1:1`, `1:m`, `m:1`, and `m:m`). Additionally, the `panel_var` parameter specifies the name of the variable that will store these common identifiers.\n"
      ],
      "id": "a6fb99a9"
    },
    {
      "cell_type": "code",
      "metadata": {},
      "source": [
        "df = pd.merge(\n",
        "\tdf,\n",
        "\tresult,\n",
        "\tleft_index=True,\n",
        "\tright_on='index',\n",
        "\tvalidate='1:1'\n",
        ")\n",
        "\n",
        "df = df.sort_values(['panel_id', 'side', 'company_id']).reset_index(drop=True)\n",
        "\n",
        "# Prepare selection to be viewed\n",
        "\n",
        "selected_ids = ['1e87fc75b4', '0008e07878']\n",
        "columns_to_show = [\n",
        "    'panel_id',\n",
        "    'company_id',\n",
        "    'side',\n",
        "    'company_name',\n",
        "    'city',\n",
        "    'purpose',\n",
        "]\n",
        "\n",
        "df_selection= df[df['company_id'].isin(selected_ids)][columns_to_show]\n",
        "\n",
        "df_selection"
      ],
      "id": "df69e293",
      "execution_count": null,
      "outputs": []
    },
    {
      "cell_type": "markdown",
      "metadata": {},
      "source": [
        "## Repeated Cross-Sections (Panel ID)\n",
        "\n",
        "The method demonstrated above can be generalized to generate common identifiers across multiple repeated cross sections, not just the two in our example above (*left* and *right*). The same underlying logic applies regardless of the number of cross sections (i.e., periods), ensuring a consistent and unified ID generation process across your entire dataset."
      ],
      "id": "61e8effe"
    }
  ],
  "metadata": {
    "kernelspec": {
      "display_name": "Python 3",
      "language": "python",
      "name": "python3"
    }
  },
  "nbformat": 4,
  "nbformat_minor": 5
}